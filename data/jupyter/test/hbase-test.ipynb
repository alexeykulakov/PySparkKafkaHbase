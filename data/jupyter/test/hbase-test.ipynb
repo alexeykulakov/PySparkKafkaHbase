{
 "cells": [
  {
   "cell_type": "code",
   "execution_count": 1,
   "id": "7035ae1d-0876-493c-b91c-a2ac9b98662d",
   "metadata": {},
   "outputs": [],
   "source": [
    "import happybase"
   ]
  },
  {
   "cell_type": "code",
   "execution_count": 2,
   "id": "e5c51fc6-e10e-456f-818e-f7d7f3e36223",
   "metadata": {},
   "outputs": [],
   "source": [
    "connection = happybase.Connection('10.8.37.6')"
   ]
  },
  {
   "cell_type": "code",
   "execution_count": 4,
   "id": "083d8524-ef73-42cd-a45e-700ce17f6e1b",
   "metadata": {},
   "outputs": [
    {
     "data": {
      "text/plain": [
       "[b'testTable']"
      ]
     },
     "execution_count": 4,
     "metadata": {},
     "output_type": "execute_result"
    }
   ],
   "source": [
    "tableName = 'testTable'\n",
    "# connection.delete_table(tableName, disable=True)\n",
    "\n",
    "connection.create_table(\n",
    "    tableName,\n",
    "    {'cf1': dict(max_versions=10),\n",
    "     'cf2': dict(max_versions=1, block_cache_enabled=False),\n",
    "     'cf3': dict(),  # use defaults\n",
    "    }\n",
    ")\n",
    "\n",
    "connection.tables()"
   ]
  },
  {
   "cell_type": "code",
   "execution_count": 5,
   "id": "c299c956-3cbc-4355-80ec-a9519950534a",
   "metadata": {},
   "outputs": [
    {
     "data": {
      "text/plain": [
       "<happybase.table.Table name=b'testTable'>"
      ]
     },
     "execution_count": 5,
     "metadata": {},
     "output_type": "execute_result"
    }
   ],
   "source": [
    "table = connection.table(tableName)\n",
    "table"
   ]
  },
  {
   "cell_type": "code",
   "execution_count": 6,
   "id": "8f395db1-9e56-40ac-8240-4f7c9b28c5cc",
   "metadata": {},
   "outputs": [],
   "source": [
    "b = table.batch()\n",
    "b.put('row-key-1', {b'cf1:col1': b'value1', b'cf1:col2': b'value2'})\n",
    "b.send()"
   ]
  },
  {
   "cell_type": "code",
   "execution_count": 7,
   "id": "e0872155-d3f3-4455-91d4-77d7e0da980f",
   "metadata": {},
   "outputs": [],
   "source": [
    "table.put('row-key', {b'cf1:col1': b'value4',b'cf1:col2': b'value5','cf1:col3': b'value6'})"
   ]
  },
  {
   "cell_type": "code",
   "execution_count": 8,
   "id": "0cae6da4-49c3-41a2-bdc4-fb7ab8bb66ae",
   "metadata": {},
   "outputs": [
    {
     "name": "stdout",
     "output_type": "stream",
     "text": [
      "b'value4'\n"
     ]
    }
   ],
   "source": [
    "row = table.row(b'row-key')\n",
    "print(row[b'cf1:col1'])   # prints the value of cf1:col1"
   ]
  },
  {
   "cell_type": "code",
   "execution_count": null,
   "id": "3b4b86c9-0122-4be9-adfa-e05646043cae",
   "metadata": {},
   "outputs": [],
   "source": []
  }
 ],
 "metadata": {
  "kernelspec": {
   "display_name": "Python 3 (ipykernel)",
   "language": "python",
   "name": "python3"
  },
  "language_info": {
   "codemirror_mode": {
    "name": "ipython",
    "version": 3
   },
   "file_extension": ".py",
   "mimetype": "text/x-python",
   "name": "python",
   "nbconvert_exporter": "python",
   "pygments_lexer": "ipython3",
   "version": "3.7.0"
  }
 },
 "nbformat": 4,
 "nbformat_minor": 5
}
