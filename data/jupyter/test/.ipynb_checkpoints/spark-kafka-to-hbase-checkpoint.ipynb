{
 "cells": [
  {
   "cell_type": "code",
   "execution_count": 3,
   "id": "9d090b02-8222-4fdc-8773-2d6cc4e383ab",
   "metadata": {},
   "outputs": [],
   "source": [
    "import os\n",
    "os.environ[\"PYSPARK_PYTHON\"]=\"/usr/bin/python3\"\n",
    "os.environ['PYSPARK_SUBMIT_ARGS'] = '--packages org.apache.spark:spark-streaming-kafka-0-8_2.11:2.4.3,org.apache.spark:spark-sql-kafka-0-10_2.11:2.4.3 pyspark-shell'\n",
    "\n",
    "from pyspark import SparkConf\n",
    "from pyspark import  SparkContext\n",
    "from pyspark.sql import SparkSession\n",
    "from pyspark.streaming import StreamingContext\n",
    "from pyspark.streaming.kafka import KafkaUtils\n",
    "from pyspark.sql import SQLContext\n",
    "import pyspark\n",
    "import happybase"
   ]
  },
  {
   "cell_type": "code",
   "execution_count": 4,
   "id": "a35c62a8-0e4e-4f58-9f84-4b56fb630fc3",
   "metadata": {},
   "outputs": [
    {
     "name": "stderr",
     "output_type": "stream",
     "text": [
      "Ivy Default Cache set to: /root/.ivy2/cache\n",
      "The jars for the packages stored in: /root/.ivy2/jars\n",
      ":: loading settings :: url = jar:file:/usr/local/spark-2.4.3-bin-hadoop2.7/jars/ivy-2.4.0.jar!/org/apache/ivy/core/settings/ivysettings.xml\n",
      "org.apache.spark#spark-streaming-kafka-0-8_2.11 added as a dependency\n",
      "org.apache.spark#spark-sql-kafka-0-10_2.11 added as a dependency\n",
      ":: resolving dependencies :: org.apache.spark#spark-submit-parent-ba167495-b240-478c-b0d8-042fa67e5bbe;1.0\n",
      "\tconfs: [default]\n",
      "\tfound org.apache.spark#spark-streaming-kafka-0-8_2.11;2.4.3 in central\n",
      "\tfound org.apache.kafka#kafka_2.11;0.8.2.1 in central\n",
      "\tfound org.scala-lang.modules#scala-xml_2.11;1.0.2 in central\n",
      "\tfound com.yammer.metrics#metrics-core;2.2.0 in central\n",
      "\tfound org.slf4j#slf4j-api;1.7.16 in central\n",
      "\tfound org.scala-lang.modules#scala-parser-combinators_2.11;1.1.0 in central\n",
      "\tfound com.101tec#zkclient;0.3 in central\n",
      "\tfound log4j#log4j;1.2.17 in central\n",
      "\tfound org.apache.kafka#kafka-clients;0.8.2.1 in central\n",
      "\tfound net.jpountz.lz4#lz4;1.2.0 in central\n",
      "\tfound org.xerial.snappy#snappy-java;1.1.7.3 in central\n",
      "\tfound org.spark-project.spark#unused;1.0.0 in central\n",
      "\tfound org.apache.spark#spark-sql-kafka-0-10_2.11;2.4.3 in central\n",
      "\tfound org.apache.kafka#kafka-clients;2.0.0 in central\n",
      "\tfound org.lz4#lz4-java;1.4.0 in central\n",
      ":: resolution report :: resolve 912ms :: artifacts dl 13ms\n",
      "\t:: modules in use:\n",
      "\tcom.101tec#zkclient;0.3 from central in [default]\n",
      "\tcom.yammer.metrics#metrics-core;2.2.0 from central in [default]\n",
      "\tlog4j#log4j;1.2.17 from central in [default]\n",
      "\torg.apache.kafka#kafka-clients;2.0.0 from central in [default]\n",
      "\torg.apache.kafka#kafka_2.11;0.8.2.1 from central in [default]\n",
      "\torg.apache.spark#spark-sql-kafka-0-10_2.11;2.4.3 from central in [default]\n",
      "\torg.apache.spark#spark-streaming-kafka-0-8_2.11;2.4.3 from central in [default]\n",
      "\torg.lz4#lz4-java;1.4.0 from central in [default]\n",
      "\torg.scala-lang.modules#scala-parser-combinators_2.11;1.1.0 from central in [default]\n",
      "\torg.scala-lang.modules#scala-xml_2.11;1.0.2 from central in [default]\n",
      "\torg.slf4j#slf4j-api;1.7.16 from central in [default]\n",
      "\torg.spark-project.spark#unused;1.0.0 from central in [default]\n",
      "\torg.xerial.snappy#snappy-java;1.1.7.3 from central in [default]\n",
      "\t:: evicted modules:\n",
      "\torg.apache.kafka#kafka-clients;0.8.2.1 by [org.apache.kafka#kafka-clients;2.0.0] in [default]\n",
      "\tnet.jpountz.lz4#lz4;1.2.0 transitively in [default]\n",
      "\t---------------------------------------------------------------------\n",
      "\t|                  |            modules            ||   artifacts   |\n",
      "\t|       conf       | number| search|dwnlded|evicted|| number|dwnlded|\n",
      "\t---------------------------------------------------------------------\n",
      "\t|      default     |   15  |   0   |   0   |   2   ||   13  |   0   |\n",
      "\t---------------------------------------------------------------------\n",
      ":: retrieving :: org.apache.spark#spark-submit-parent-ba167495-b240-478c-b0d8-042fa67e5bbe\n",
      "\tconfs: [default]\n",
      "\t0 artifacts copied, 13 already retrieved (0kB/17ms)\n",
      "21/08/05 17:25:22 WARN NativeCodeLoader: Unable to load native-hadoop library for your platform... using builtin-java classes where applicable\n",
      "Using Spark's default log4j profile: org/apache/spark/log4j-defaults.properties\n",
      "Setting default log level to \"WARN\".\n",
      "To adjust logging level use sc.setLogLevel(newLevel). For SparkR, use setLogLevel(newLevel).\n",
      "21/08/05 17:25:23 WARN Utils: Service 'SparkUI' could not bind on port 4040. Attempting port 4041.\n"
     ]
    }
   ],
   "source": [
    "spark_conf = SparkConf() \\\n",
    "            .setMaster(\"spark://spark-master:7077\") \\\n",
    "            .setAppName(\"SparkKafkaStreamingConsole\") \\\n",
    "            .setAll([('spark.executor.memory', '4g'),\n",
    "                     ('spark.executor.cores', '4'), \n",
    "                     ('spark.cores.max', '4'), \n",
    "                     ('spark.driver.memory','4g'),\n",
    "                     ('spark.driver.host','192.168.96.3')\n",
    "            ])\n",
    "\n",
    "spark = SparkSession.builder \\\n",
    "                    .config(conf=spark_conf) \\\n",
    "                    .enableHiveSupport() \\\n",
    "                    .getOrCreate()"
   ]
  },
  {
   "cell_type": "code",
   "execution_count": 5,
   "id": "ee33e081-4992-4a29-a85e-187ac25f1568",
   "metadata": {},
   "outputs": [],
   "source": [
    "input_df = spark \\\n",
    "        .readStream \\\n",
    "        .format(\"kafka\") \\\n",
    "        .option(\"kafka.bootstrap.servers\", \"kafka:9092\") \\\n",
    "        .option(\"subscribe\", \"topic1\") \\\n",
    "        .option(\"startingOffsets\", \"latest\") \\\n",
    "        .load() \\\n",
    "        .selectExpr(\"CAST(value as STRING)\", \"CAST(timestamp as STRING)\",\"CAST(topic as STRING)\")"
   ]
  },
  {
   "cell_type": "code",
   "execution_count": null,
   "id": "cfb2c51d-bd0a-4d6a-b24f-a4b857b926c6",
   "metadata": {},
   "outputs": [
    {
     "name": "stdout",
     "output_type": "stream",
     "text": [
      "-------------------------------------------\n",
      "Batch: 0\n",
      "-------------------------------------------\n",
      "+-----+---------+-----+\n",
      "|value|timestamp|topic|\n",
      "+-----+---------+-----+\n",
      "+-----+---------+-----+\n",
      "\n"
     ]
    }
   ],
   "source": [
    "output = input_df.writeStream \\\n",
    "            .format(\"console\") \\\n",
    "            .option(\"truncate\",\"false\") \\\n",
    "            .start() \\\n",
    "            .awaitTermination()"
   ]
  },
  {
   "cell_type": "code",
   "execution_count": null,
   "id": "687e299a-3cc8-4d53-857d-50f0341c9ecd",
   "metadata": {},
   "outputs": [],
   "source": []
  },
  {
   "cell_type": "code",
   "execution_count": null,
   "id": "54d2ce57-fdea-4e2e-a880-f994b7890d87",
   "metadata": {},
   "outputs": [],
   "source": []
  },
  {
   "cell_type": "code",
   "execution_count": 2,
   "id": "7fc6dff5-8235-4774-a55e-70ebe8ae32d2",
   "metadata": {},
   "outputs": [],
   "source": [
    "hbase_table = 'testTable'\n",
    "hconn = happybase.Connection('hbase')  \n",
    "ctable = hconn.table(hbase_table)"
   ]
  },
  {
   "cell_type": "code",
   "execution_count": null,
   "id": "ccaa8a0c-f1c2-4798-8a90-ebe2a45bb394",
   "metadata": {},
   "outputs": [],
   "source": [
    "def SaveToHBase(rdd):\n",
    "    print(\"=====Pull from Stream=====\")\n",
    "    if not rdd.isEmpty():\n",
    "        print(\"=some records=\")\n",
    "        for line in rdd.collect():\n",
    "            ctable.put('rowId', { \\\n",
    "            b'cf1:col1': (line.topic), \\\n",
    "            b'cf1:col2': (line.value), \\\n",
    "            b'cf1:col3': (line.timestamp)})"
   ]
  }
 ],
 "metadata": {
  "kernelspec": {
   "display_name": "Python 3 (ipykernel)",
   "language": "python",
   "name": "python3"
  },
  "language_info": {
   "codemirror_mode": {
    "name": "ipython",
    "version": 3
   },
   "file_extension": ".py",
   "mimetype": "text/x-python",
   "name": "python",
   "nbconvert_exporter": "python",
   "pygments_lexer": "ipython3",
   "version": "3.7.0"
  }
 },
 "nbformat": 4,
 "nbformat_minor": 5
}
