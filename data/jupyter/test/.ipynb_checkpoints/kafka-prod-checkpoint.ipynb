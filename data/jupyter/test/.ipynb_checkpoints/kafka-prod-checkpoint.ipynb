{
 "cells": [
  {
   "cell_type": "code",
   "execution_count": 11,
   "id": "45888721-55d5-499b-9755-d58074043bdd",
   "metadata": {},
   "outputs": [],
   "source": [
    "from kafka import KafkaProducer\n",
    "producer = KafkaProducer(bootstrap_servers='kafka:9092')"
   ]
  },
  {
   "cell_type": "code",
   "execution_count": 8,
   "id": "e5a2538e-c29d-4027-b21b-3943d99859a7",
   "metadata": {},
   "outputs": [],
   "source": [
    "for _ in range(2):\n",
    "    producer.send('mytopic', key=b'key', value=b'some_message_bytes')"
   ]
  },
  {
   "cell_type": "code",
   "execution_count": 13,
   "id": "89185d90-5f95-4680-9d48-5cc27b1b6b2c",
   "metadata": {},
   "outputs": [
    {
     "data": {
      "text/plain": [
       "<kafka.producer.future.FutureRecordMetadata at 0x7faa80ee9c50>"
      ]
     },
     "execution_count": 13,
     "metadata": {},
     "output_type": "execute_result"
    }
   ],
   "source": [
    "producer.send('topic1', value=b'next message')"
   ]
  },
  {
   "cell_type": "code",
   "execution_count": null,
   "id": "22511d5f-4bc4-47d5-94d4-701879fb2c1d",
   "metadata": {},
   "outputs": [],
   "source": []
  }
 ],
 "metadata": {
  "kernelspec": {
   "display_name": "Python 3 (ipykernel)",
   "language": "python",
   "name": "python3"
  },
  "language_info": {
   "codemirror_mode": {
    "name": "ipython",
    "version": 3
   },
   "file_extension": ".py",
   "mimetype": "text/x-python",
   "name": "python",
   "nbconvert_exporter": "python",
   "pygments_lexer": "ipython3",
   "version": "3.7.0"
  }
 },
 "nbformat": 4,
 "nbformat_minor": 5
}
