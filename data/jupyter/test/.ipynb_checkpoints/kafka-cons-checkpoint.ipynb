{
 "cells": [
  {
   "cell_type": "code",
   "execution_count": 1,
   "id": "028f418e-c38d-424a-92f4-fc4b7369f479",
   "metadata": {},
   "outputs": [],
   "source": [
    "from kafka import KafkaConsumer"
   ]
  },
  {
   "cell_type": "code",
   "execution_count": 2,
   "id": "4cf33e43-cec0-4cfb-bcf8-20ebeaeaece5",
   "metadata": {},
   "outputs": [],
   "source": [
    "consumer = KafkaConsumer('mytopic', bootstrap_servers=['kafka:9092'])"
   ]
  },
  {
   "cell_type": "code",
   "execution_count": null,
   "id": "890eb87f-c97b-417e-9240-b232c38c9925",
   "metadata": {},
   "outputs": [
    {
     "name": "stdout",
     "output_type": "stream",
     "text": [
      "ConsumerRecord(topic='mytopic', partition=0, offset=0, timestamp=1628154406866, timestamp_type=0, key=b'key', value=b'some_message_bytes', headers=[], checksum=None, serialized_key_size=3, serialized_value_size=18, serialized_header_size=-1)\n",
      "ConsumerRecord(topic='mytopic', partition=0, offset=1, timestamp=1628154406867, timestamp_type=0, key=b'key', value=b'some_message_bytes', headers=[], checksum=None, serialized_key_size=3, serialized_value_size=18, serialized_header_size=-1)\n",
      "ConsumerRecord(topic='mytopic', partition=0, offset=2, timestamp=1628154407283, timestamp_type=0, key=b'key', value=b'next message', headers=[], checksum=None, serialized_key_size=3, serialized_value_size=12, serialized_header_size=-1)\n"
     ]
    }
   ],
   "source": [
    "for msg in consumer:\n",
    "    print (msg)"
   ]
  },
  {
   "cell_type": "code",
   "execution_count": null,
   "id": "4e957ac2-bb26-4929-8364-7402f25f06dc",
   "metadata": {},
   "outputs": [],
   "source": []
  },
  {
   "cell_type": "code",
   "execution_count": null,
   "id": "a0191672-1cd6-4e29-b08f-4c4de1794903",
   "metadata": {},
   "outputs": [],
   "source": []
  }
 ],
 "metadata": {
  "kernelspec": {
   "display_name": "Python 3 (ipykernel)",
   "language": "python",
   "name": "python3"
  },
  "language_info": {
   "codemirror_mode": {
    "name": "ipython",
    "version": 3
   },
   "file_extension": ".py",
   "mimetype": "text/x-python",
   "name": "python",
   "nbconvert_exporter": "python",
   "pygments_lexer": "ipython3",
   "version": "3.7.0"
  }
 },
 "nbformat": 4,
 "nbformat_minor": 5
}
