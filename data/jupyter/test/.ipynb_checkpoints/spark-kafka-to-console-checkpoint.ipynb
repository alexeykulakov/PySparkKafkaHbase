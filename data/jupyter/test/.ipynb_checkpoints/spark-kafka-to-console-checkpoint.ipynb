{
 "cells": [
  {
   "cell_type": "code",
   "execution_count": 1,
   "id": "9d090b02-8222-4fdc-8773-2d6cc4e383ab",
   "metadata": {},
   "outputs": [],
   "source": [
    "import os\n",
    "os.environ[\"PYSPARK_PYTHON\"]=\"/usr/bin/python3\"\n",
    "os.environ['PYSPARK_SUBMIT_ARGS'] = '--packages org.apache.spark:spark-streaming-kafka-0-8_2.11:2.4.3,org.apache.spark:spark-sql-kafka-0-10_2.11:2.4.3 pyspark-shell'\n",
    "\n",
    "from pyspark import SparkConf\n",
    "from pyspark import  SparkContext\n",
    "from pyspark.sql import SparkSession\n",
    "from pyspark.streaming import StreamingContext\n",
    "from pyspark.streaming.kafka import KafkaUtils\n",
    "from pyspark.sql import SQLContext\n",
    "import pyspark"
   ]
  },
  {
   "cell_type": "code",
   "execution_count": null,
   "id": "a35c62a8-0e4e-4f58-9f84-4b56fb630fc3",
   "metadata": {},
   "outputs": [],
   "source": [
    "spark_conf = SparkConf() \\\n",
    "            .setMaster(\"spark://spark-master:7077\") \\\n",
    "            .setAppName(\"SparkKafkaStreamingConsole\") \\\n",
    "            .setAll([('spark.executor.memory', '4g'),\n",
    "                     ('spark.executor.cores', '4'), \n",
    "                     ('spark.cores.max', '4'), \n",
    "                     ('spark.driver.memory','4g'),\n",
    "                     ('spark.driver.host','192.168.96.3')\n",
    "            ])\n",
    "\n",
    "spark = SparkSession.builder \\\n",
    "                    .config(conf=spark_conf) \\\n",
    "                    .enableHiveSupport() \\\n",
    "                    .getOrCreate()"
   ]
  }
 ],
 "metadata": {
  "kernelspec": {
   "display_name": "Python 3 (ipykernel)",
   "language": "python",
   "name": "python3"
  },
  "language_info": {
   "codemirror_mode": {
    "name": "ipython",
    "version": 3
   },
   "file_extension": ".py",
   "mimetype": "text/x-python",
   "name": "python",
   "nbconvert_exporter": "python",
   "pygments_lexer": "ipython3",
   "version": "3.7.0"
  }
 },
 "nbformat": 4,
 "nbformat_minor": 5
}
